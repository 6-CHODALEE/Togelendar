{
 "cells": [
  {
   "cell_type": "code",
   "execution_count": 124,
   "id": "0ec23bb6",
   "metadata": {},
   "outputs": [],
   "source": [
    "# !pip install folium"
   ]
  },
  {
   "cell_type": "code",
   "execution_count": 27,
   "id": "5b127cbd",
   "metadata": {},
   "outputs": [],
   "source": [
    "import numpy as np\n",
    "import osmnx as ox\n",
    "import networkx as nx\n",
    "import folium\n",
    "import requests\n",
    "from dotenv import load_dotenv\n",
    "import os\n",
    "import time"
   ]
  },
  {
   "cell_type": "code",
   "execution_count": 28,
   "id": "72299ccb",
   "metadata": {},
   "outputs": [],
   "source": [
    "# 사용자 좌표 (위도, 경도)\n",
    "points = {\n",
    "    'A': np.array([37.531132809078464, 126.8821229873256]),  # 목동운동장\n",
    "    'B': np.array([37.5703884202892, 126.992329841579]),  # 종로 3가\n",
    "    'C': np.array([37.513992512175925, 127.10199193245755])   # 롯데월드\n",
    "}"
   ]
  },
  {
   "cell_type": "code",
   "execution_count": 29,
   "id": "4b27aa0d",
   "metadata": {},
   "outputs": [
    {
     "data": {
      "text/plain": [
       "array([ 37.53850458, 126.99214825])"
      ]
     },
     "execution_count": 29,
     "metadata": {},
     "output_type": "execute_result"
    }
   ],
   "source": [
    "np.sum(list(points.values()), axis=0) / len(points)"
   ]
  },
  {
   "cell_type": "code",
   "execution_count": 30,
   "id": "40ce433a",
   "metadata": {},
   "outputs": [
    {
     "name": "stdout",
     "output_type": "stream",
     "text": [
      "[ 37.53850458 126.99214825]\n"
     ]
    }
   ],
   "source": [
    "# 최초의 중간 지점 -> 사용자들 좌표의 평균 좌표\n",
    "mid_point = np.sum(list(points.values()), axis=0) / len(points)\n",
    "print(mid_point)"
   ]
  },
  {
   "cell_type": "code",
   "execution_count": 31,
   "id": "172501f7",
   "metadata": {},
   "outputs": [
    {
     "name": "stdout",
     "output_type": "stream",
     "text": [
      "중간 지점 좌표: [ 37.53850458 126.99214825]\n",
      "A유저의 최단 시간: 40\n",
      "A유저의 최단 시간: 40\n",
      "A유저의 최단 시간: 40\n",
      "A유저의 최단 시간: 40\n",
      "A유저의 최단 시간: 40\n",
      "A유저의 최단 시간: 40\n",
      "A유저의 최단 시간: 40\n",
      "A유저의 최단 시간: 40\n",
      "A유저의 최단 시간: 40\n",
      "A유저의 최단 시간: 40\n",
      "A유저의 최단 시간: 40\n",
      "A유저의 최단 시간: 40\n",
      "A유저의 최단 시간: 40\n",
      "A유저의 최단 시간: 40\n",
      "A유저의 최단 시간: 40\n",
      "A유저의 최단 시간: 40\n",
      "B유저의 최단 시간: 25\n",
      "B유저의 최단 시간: 25\n",
      "B유저의 최단 시간: 25\n",
      "B유저의 최단 시간: 25\n",
      "B유저의 최단 시간: 25\n",
      "B유저의 최단 시간: 25\n",
      "B유저의 최단 시간: 25\n",
      "B유저의 최단 시간: 25\n",
      "B유저의 최단 시간: 25\n",
      "B유저의 최단 시간: 25\n",
      "B유저의 최단 시간: 25\n",
      "B유저의 최단 시간: 25\n",
      "B유저의 최단 시간: 25\n",
      "B유저의 최단 시간: 25\n",
      "B유저의 최단 시간: 25\n",
      "B유저의 최단 시간: 25\n",
      "B유저의 최단 시간: 25\n",
      "C유저의 최단 시간: 42\n",
      "C유저의 최단 시간: 42\n",
      "C유저의 최단 시간: 42\n",
      "C유저의 최단 시간: 42\n",
      "C유저의 최단 시간: 42\n",
      "C유저의 최단 시간: 42\n",
      "C유저의 최단 시간: 42\n",
      "C유저의 최단 시간: 42\n",
      "C유저의 최단 시간: 42\n",
      "C유저의 최단 시간: 42\n",
      "C유저의 최단 시간: 42\n",
      "C유저의 최단 시간: 42\n",
      "C유저의 최단 시간: 42\n",
      "C유저의 최단 시간: 42\n",
      "C유저의 최단 시간: 42\n",
      "C유저의 최단 시간: 42\n",
      "유저별 소요 시간: {'A': 40, 'B': 25, 'C': 42}\n",
      "1번쨰 시도입니다. / 17분 차이\n",
      "중간 지점은 [ 37.53850458 126.99214825]입니다\n",
      "A의 소요 시간: 40분\n",
      "B의 소요 시간: 25분\n",
      "C의 소요 시간: 42분\n"
     ]
    }
   ],
   "source": [
    "# .env 파일에서 환경변수 로드\n",
    "load_dotenv()\n",
    "\n",
    "# 환경변수에서 API 키 불러오기\n",
    "api_key = os.getenv('ODsay_APIKEY')\n",
    "\n",
    "# 요청 URL\n",
    "url = 'https://api.odsay.com/v1/api/searchPubTransPathT'\n",
    "\n",
    "# 소요 시간 차이 limit\n",
    "standard_time_gap = 20\n",
    "\n",
    "# 유저별 중앙지점까지의 벡터값\n",
    "unit_vecs = {}\n",
    "\n",
    "# 소요 시간가중치\n",
    "vecs_weight = {}\n",
    "\n",
    "# 모든 유저의 출발지-중간지점 이동 소요시간을 0으로 기본 설정\n",
    "defult_time = {key : 0 for key in points.keys()}\n",
    "\n",
    "\n",
    "\n",
    "\n",
    "# 시도 횟수\n",
    "trial = 1\n",
    "\n",
    "while True : \n",
    "    end_lat, end_lon = mid_point \n",
    "    print(f'중간 지점 좌표: {mid_point}')\n",
    "    for name, value in points.items():\n",
    "        start_lat, start_lon = points[name]    \n",
    "\n",
    "        params = {\n",
    "            'SX': float(start_lon),\n",
    "            'SY': float(start_lat),\n",
    "            'EX': float(end_lon),\n",
    "            'EY': float(end_lat),\n",
    "            'apiKey': api_key\n",
    "        }\n",
    "\n",
    "        response = requests.get(url, params=params)\n",
    "        data = response.json()\n",
    "\n",
    "        short_time = data['result']['path'][0]['info']['totalTime']\n",
    "        \n",
    "        for i in range(len(data['result']['path'])):\n",
    "            print(f'{name}유저의 최단 시간: {short_time}')\n",
    "            time_cost = data['result']['path'][i]['info']['totalTime']\n",
    "            \n",
    "            if time_cost < short_time:\n",
    "                short_time = time_cost\n",
    "\n",
    "        defult_time[name] = short_time\n",
    "\n",
    "    time_gap = max(defult_time.values()) - min(defult_time.values())\n",
    "    print(f'유저별 소요 시간: {defult_time}')\n",
    "    print(f'{trial}번쨰 시도입니다. / {time_gap}분 차이')\n",
    "    trial += 1\n",
    "\n",
    "    if time_gap > standard_time_gap : \n",
    "        for name, point in points.items():\n",
    "            vec = point - mid_point\n",
    "            norm = np.linalg.norm(vec)\n",
    "\n",
    "            if norm == 0:\n",
    "                unit_vec = np.array([0, 0])\n",
    "            else:\n",
    "                unit_vec = vec / norm\n",
    "\n",
    "            unit_vecs[name] = unit_vec\n",
    "\n",
    "        \n",
    "        # weight = {'A': 18, 'B': 46, 'C': 35}\n",
    "        for name, vec in unit_vecs.items():\n",
    "            vecs_weight[name] = vec * defult_time[name] # defult_time = weight\n",
    "\n",
    "        avg_vec = sum(vecs_weight.values()) / len(points)\n",
    "\n",
    "        mid_point += (avg_vec * 0.01)\n",
    "        time.sleep(10)\n",
    "        \n",
    "    else :\n",
    "        print(f\"중간 지점은 {mid_point}입니다\")\n",
    "        for name, value in defult_time.items():\n",
    "            print(f'{name}의 소요 시간: {value}분')\n",
    "        break\n",
    "            "
   ]
  },
  {
   "cell_type": "code",
   "execution_count": 16,
   "id": "dad97947",
   "metadata": {},
   "outputs": [
    {
     "data": {
      "text/plain": [
       "{'error': {'msg': '검색결과가 없습니다.', 'code': '-99'}}"
      ]
     },
     "execution_count": 16,
     "metadata": {},
     "output_type": "execute_result"
    }
   ],
   "source": [
    "data"
   ]
  },
  {
   "cell_type": "code",
   "execution_count": 9,
   "id": "6574623d",
   "metadata": {},
   "outputs": [
    {
     "data": {
      "text/plain": [
       "[{'trafficType': 3, 'distance': 452, 'sectionTime': 7},\n",
       " {'trafficType': 1,\n",
       "  'distance': 2450,\n",
       "  'sectionTime': 6,\n",
       "  'stationCount': 4,\n",
       "  'lane': [{'name': '수도권 신림선', 'subwayCode': 117, 'subwayCityCode': 1000}],\n",
       "  'intervalTime': 6,\n",
       "  'startName': '신림',\n",
       "  'startX': 126.929643,\n",
       "  'startY': 37.484732,\n",
       "  'endName': '보라매',\n",
       "  'endX': 126.920428,\n",
       "  'endY': 37.500408,\n",
       "  'way': '보라매',\n",
       "  'wayCode': 1,\n",
       "  'door': '0-0',\n",
       "  'startID': 11718,\n",
       "  'endID': 11714,\n",
       "  'startExitNo': '3',\n",
       "  'startExitX': 126.92961510921224,\n",
       "  'startExitY': 37.48387398515152,\n",
       "  'passStopList': {'stations': [{'index': 0,\n",
       "     'stationID': 11718,\n",
       "     'stationName': '신림',\n",
       "     'x': '126.929652',\n",
       "     'y': '37.484736'},\n",
       "    {'index': 1,\n",
       "     'stationID': 11717,\n",
       "     'stationName': '당곡',\n",
       "     'x': '126.927559',\n",
       "     'y': '37.490253'},\n",
       "    {'index': 2,\n",
       "     'stationID': 11716,\n",
       "     'stationName': '보라매병원',\n",
       "     'x': '126.923812',\n",
       "     'y': '37.49297'},\n",
       "    {'index': 3,\n",
       "     'stationID': 11715,\n",
       "     'stationName': '보라매공원',\n",
       "     'x': '126.91826',\n",
       "     'y': '37.495396'},\n",
       "    {'index': 4,\n",
       "     'stationID': 11714,\n",
       "     'stationName': '보라매',\n",
       "     'x': '126.920437',\n",
       "     'y': '37.500408'}]}},\n",
       " {'trafficType': 3, 'distance': 0, 'sectionTime': 0},\n",
       " {'trafficType': 1,\n",
       "  'distance': 2000,\n",
       "  'sectionTime': 6,\n",
       "  'stationCount': 2,\n",
       "  'lane': [{'name': '수도권 7호선', 'subwayCode': 7, 'subwayCityCode': 1000}],\n",
       "  'intervalTime': 6,\n",
       "  'startName': '보라매',\n",
       "  'startX': 126.919914,\n",
       "  'startY': 37.499952,\n",
       "  'endName': '장승배기',\n",
       "  'endX': 126.938981,\n",
       "  'endY': 37.504819,\n",
       "  'way': '장승배기',\n",
       "  'wayCode': 1,\n",
       "  'door': 'null',\n",
       "  'startID': 742,\n",
       "  'endID': 740,\n",
       "  'endExitNo': '1',\n",
       "  'endExitX': 126.93967545527407,\n",
       "  'endExitY': 37.504950053273404,\n",
       "  'passStopList': {'stations': [{'index': 0,\n",
       "     'stationID': 742,\n",
       "     'stationName': '보라매',\n",
       "     'x': '126.919916',\n",
       "     'y': '37.499956'},\n",
       "    {'index': 1,\n",
       "     'stationID': 741,\n",
       "     'stationName': '신대방삼거리',\n",
       "     'x': '126.928197',\n",
       "     'y': '37.499737'},\n",
       "    {'index': 2,\n",
       "     'stationID': 740,\n",
       "     'stationName': '장승배기',\n",
       "     'x': '126.938988',\n",
       "     'y': '37.504828'}]}},\n",
       " {'trafficType': 3, 'distance': 387, 'sectionTime': 6}]"
      ]
     },
     "execution_count": 9,
     "metadata": {},
     "output_type": "execute_result"
    }
   ],
   "source": [
    "data['result']['path'][0]['subPath']\n"
   ]
  }
 ],
 "metadata": {
  "kernelspec": {
   "display_name": "3.11.12",
   "language": "python",
   "name": "python3"
  },
  "language_info": {
   "codemirror_mode": {
    "name": "ipython",
    "version": 3
   },
   "file_extension": ".py",
   "mimetype": "text/x-python",
   "name": "python",
   "nbconvert_exporter": "python",
   "pygments_lexer": "ipython3",
   "version": "3.11.12"
  }
 },
 "nbformat": 4,
 "nbformat_minor": 5
}
